{
  "nbformat": 4,
  "nbformat_minor": 0,
  "metadata": {
    "colab": {
      "name": "Preprocess.ipynb",
      "provenance": [],
      "collapsed_sections": [],
      "machine_shape": "hm",
      "background_execution": "on"
    },
    "kernelspec": {
      "name": "python3",
      "display_name": "Python 3"
    },
    "language_info": {
      "name": "python"
    },
    "accelerator": "TPU"
  },
  "cells": [
    {
      "cell_type": "code",
      "execution_count": null,
      "metadata": {
        "id": "6g-3QPC6bT5t",
        "colab": {
          "base_uri": "https://localhost:8080/",
          "height": 251
        },
        "outputId": "a5f8296d-dd0f-420c-b71d-e31de2f2bbdd"
      },
      "outputs": [
        {
          "output_type": "error",
          "ename": "KeyboardInterrupt",
          "evalue": "ignored",
          "traceback": [
            "\u001b[0;31m---------------------------------------------------------------------------\u001b[0m",
            "\u001b[0;31mKeyboardInterrupt\u001b[0m                         Traceback (most recent call last)",
            "\u001b[0;32m<ipython-input-2-b32088291e34>\u001b[0m in \u001b[0;36m<module>\u001b[0;34m()\u001b[0m\n\u001b[1;32m      9\u001b[0m       \u001b[0;32mwhile\u001b[0m \u001b[0mkey2\u001b[0m \u001b[0;34m==\u001b[0m \u001b[0;34m\"id\"\u001b[0m\u001b[0;34m:\u001b[0m\u001b[0;34m\u001b[0m\u001b[0;34m\u001b[0m\u001b[0m\n\u001b[1;32m     10\u001b[0m         \u001b[0mdata_id\u001b[0m \u001b[0;34m=\u001b[0m \u001b[0mvalue2\u001b[0m\u001b[0;34m\u001b[0m\u001b[0;34m\u001b[0m\u001b[0m\n\u001b[0;32m---> 11\u001b[0;31m         \u001b[0mtext\u001b[0m \u001b[0;34m=\u001b[0m \u001b[0;34m[\u001b[0m\u001b[0;34m]\u001b[0m\u001b[0;34m\u001b[0m\u001b[0;34m\u001b[0m\u001b[0m\n\u001b[0m\u001b[1;32m     12\u001b[0m         \u001b[0;32mif\u001b[0m \u001b[0mkey2\u001b[0m \u001b[0;34m==\u001b[0m \u001b[0;34m\"abstractive\"\u001b[0m\u001b[0;34m:\u001b[0m\u001b[0;34m\u001b[0m\u001b[0;34m\u001b[0m\u001b[0m\n\u001b[1;32m     13\u001b[0m           \u001b[0msummary_data\u001b[0m\u001b[0;34m[\u001b[0m\u001b[0mdata_id\u001b[0m\u001b[0;34m]\u001b[0m \u001b[0;34m=\u001b[0m \u001b[0mvalue2\u001b[0m\u001b[0;34m\u001b[0m\u001b[0;34m\u001b[0m\u001b[0m\n",
            "\u001b[0;31mKeyboardInterrupt\u001b[0m: "
          ]
        }
      ],
      "source": [
        "import json\n",
        "with open(r'/content/drive/MyDrive/train_original.json', encoding='utf-8') as f:\n",
        "    json_data = json.load(f)\n",
        "train_data = {}\n",
        "summary_data = {}\n",
        "for key1, value1 in json_data.items():\n",
        "  if key1 == \"documents\":\n",
        "    for key2, value2 in value1[0].items():\n",
        "      while key2 == \"id\":\n",
        "        data_id = value2\n",
        "        text = []\n",
        "        if key2 == \"abstractive\":\n",
        "          summary_data[data_id] = value2\n",
        "        if key2 == \"text\":\n",
        "          for i in range(2, len(value2)):\n",
        "            for key3, value3 in value2[i][0].items():\n",
        "              if key3 == \"sentence\":\n",
        "                text.append(value3)\n",
        "                train_data[data_id] = text\n",
        "print(len(train_data))\n",
        "print(len(summary_data))"
      ]
    }
  ]
}